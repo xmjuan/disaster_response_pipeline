{
 "cells": [
  {
   "cell_type": "markdown",
   "metadata": {},
   "source": [
    "# ML Pipeline Preparation\n",
    "Follow the instructions below to help you create your ML pipeline.\n",
    "### 1. Import libraries and load data from database.\n",
    "- Import Python libraries\n",
    "- Load dataset from database with [`read_sql_table`](https://pandas.pydata.org/pandas-docs/stable/generated/pandas.read_sql_table.html)\n",
    "- Define feature and target variables X and Y"
   ]
  },
  {
   "cell_type": "code",
   "execution_count": 1,
   "metadata": {
    "collapsed": true
   },
   "outputs": [],
   "source": [
    "# import libraries\n",
    "import pandas as pd\n",
    "from sqlalchemy import create_engine"
   ]
  },
  {
   "cell_type": "code",
   "execution_count": 2,
   "metadata": {
    "collapsed": true
   },
   "outputs": [],
   "source": [
    "# load data from database\n",
    "engine = create_engine('sqlite:///DisasterResponse.db')\n",
    "df = pd.read_sql(\"SELECT * FROM msg_df\", con=engine)"
   ]
  },
  {
   "cell_type": "code",
   "execution_count": 3,
   "metadata": {
    "collapsed": true
   },
   "outputs": [],
   "source": [
    "X = df['message']\n",
    "y = df.iloc[:, 4:]"
   ]
  },
  {
   "cell_type": "markdown",
   "metadata": {},
   "source": [
    "### 2. Write a tokenization function to process your text data"
   ]
  },
  {
   "cell_type": "code",
   "execution_count": 10,
   "metadata": {
    "collapsed": true
   },
   "outputs": [],
   "source": [
    "import re\n",
    "import nltk\n",
    "from nltk.corpus import stopwords\n",
    "from nltk.tokenize import word_tokenize\n",
    "from nltk.stem import SnowballStemmer, WordNetLemmatizer\n",
    "\n",
    "from sklearn.model_selection import train_test_split\n",
    "from sklearn.pipeline import Pipeline\n",
    "from sklearn.feature_extraction.text import CountVectorizer, TfidfTransformer\n",
    "from sklearn.multioutput import MultiOutputClassifier\n",
    "from sklearn.neighbors import KNeighborsClassifier\n",
    "from sklearn.metrics import classification_report"
   ]
  },
  {
   "cell_type": "code",
   "execution_count": 5,
   "metadata": {
    "collapsed": true
   },
   "outputs": [],
   "source": [
    "def tokenize(text):\n",
    "    \n",
    "    # normalization\n",
    "    text = re.sub(r\"[^a-zA-Z0-9]\", \" \", text)\n",
    "    \n",
    "    # tokenization\n",
    "    token_words = word_tokenize(text.lower())\n",
    "    \n",
    "    # remove stopwords\n",
    "    stop_words = set(stopwords.words('english'))\n",
    "    filtered_text = [w for w in token_words if not w in stop_words]\n",
    "    \n",
    "    # stemming and lemmatization\n",
    "    stemmer = SnowballStemmer('english')\n",
    "    lemmatizer = WordNetLemmatizer()\n",
    "    \n",
    "    stemmed_text = []\n",
    "    for word in filtered_text:\n",
    "        stemmed = stemmer.stem(word)\n",
    "        lemmatized = lemmatizer.lemmatize(stemmed).lower().strip()\n",
    "        stemmed_text.append(lemmatized)\n",
    "    \n",
    "    return stemmed_text"
   ]
  },
  {
   "cell_type": "markdown",
   "metadata": {},
   "source": [
    "### 3. Build a machine learning pipeline\n",
    "This machine pipeline should take in the `message` column as input and output classification results on the other 36 categories in the dataset. You may find the [MultiOutputClassifier](http://scikit-learn.org/stable/modules/generated/sklearn.multioutput.MultiOutputClassifier.html) helpful for predicting multiple target variables."
   ]
  },
  {
   "cell_type": "code",
   "execution_count": 8,
   "metadata": {
    "collapsed": true
   },
   "outputs": [],
   "source": [
    "pipeline = Pipeline([\n",
    "    ('vect', CountVectorizer(tokenizer=tokenize)),\n",
    "    ('tfidf', TfidfTransformer()),\n",
    "    ('clf', MultiOutputClassifier(estimator = KNeighborsClassifier()))\n",
    "])"
   ]
  },
  {
   "cell_type": "markdown",
   "metadata": {},
   "source": [
    "### 4. Train pipeline\n",
    "- Split data into train and test sets\n",
    "- Train pipeline"
   ]
  },
  {
   "cell_type": "code",
   "execution_count": 9,
   "metadata": {
    "collapsed": true
   },
   "outputs": [],
   "source": [
    "X_train, X_test, y_train, y_test = train_test_split(X, y)\n",
    "\n",
    "pipeline.fit(X_train, y_train)\n",
    "y_pred = pipeline.predict(X_test)"
   ]
  },
  {
   "cell_type": "code",
   "execution_count": 16,
   "metadata": {
    "collapsed": true
   },
   "outputs": [],
   "source": []
  },
  {
   "cell_type": "markdown",
   "metadata": {},
   "source": [
    "### 5. Test your model\n",
    "Report the f1 score, precision and recall for each output category of the dataset. You can do this by iterating through the columns and calling sklearn's `classification_report` on each."
   ]
  },
  {
   "cell_type": "code",
   "execution_count": 24,
   "metadata": {
    "collapsed": true
   },
   "outputs": [],
   "source": [
    "def display_results(y_pred, y_test):\n",
    "    col_names = df.columns[4:]\n",
    "    y_pred_df = pd.DataFrame(y_pred, columns=col_names)\n",
    "    for col in y_pred_df.columns:\n",
    "        results = classification_report(y_test[col], y_pred_df[col])\n",
    "        print('Feature:', col, '\\n', results)"
   ]
  },
  {
   "cell_type": "code",
   "execution_count": 26,
   "metadata": {},
   "outputs": [
    {
     "name": "stdout",
     "output_type": "stream",
     "text": [
      "Feature: related \n",
      "               precision    recall  f1-score   support\n",
      "\n",
      "           0       0.51      0.46      0.49      1547\n",
      "           1       0.83      0.86      0.84      4956\n",
      "           2       0.28      0.37      0.32        51\n",
      "\n",
      "    accuracy                           0.76      6554\n",
      "   macro avg       0.54      0.56      0.55      6554\n",
      "weighted avg       0.75      0.76      0.76      6554\n",
      "\n",
      "Feature: request \n",
      "               precision    recall  f1-score   support\n",
      "\n",
      "           0       0.87      0.98      0.92      5443\n",
      "           1       0.78      0.29      0.42      1111\n",
      "\n",
      "    accuracy                           0.87      6554\n",
      "   macro avg       0.83      0.63      0.67      6554\n",
      "weighted avg       0.86      0.87      0.84      6554\n",
      "\n",
      "Feature: offer \n",
      "               precision    recall  f1-score   support\n",
      "\n",
      "           0       0.99      1.00      1.00      6513\n",
      "           1       0.00      0.00      0.00        41\n",
      "\n",
      "    accuracy                           0.99      6554\n",
      "   macro avg       0.50      0.50      0.50      6554\n",
      "weighted avg       0.99      0.99      0.99      6554\n",
      "\n",
      "Feature: aid_related \n",
      "               precision    recall  f1-score   support\n",
      "\n",
      "           0       0.64      0.95      0.77      3865\n",
      "           1       0.77      0.24      0.37      2689\n",
      "\n",
      "    accuracy                           0.66      6554\n",
      "   macro avg       0.71      0.60      0.57      6554\n",
      "weighted avg       0.69      0.66      0.60      6554\n",
      "\n",
      "Feature: medical_help \n",
      "               precision    recall  f1-score   support\n",
      "\n",
      "           0       0.92      1.00      0.96      6024\n",
      "           1       0.71      0.03      0.06       530\n",
      "\n",
      "    accuracy                           0.92      6554\n",
      "   macro avg       0.81      0.52      0.51      6554\n",
      "weighted avg       0.90      0.92      0.89      6554\n",
      "\n",
      "Feature: medical_products \n",
      "               precision    recall  f1-score   support\n",
      "\n",
      "           0       0.95      1.00      0.98      6236\n",
      "           1       0.71      0.04      0.07       318\n",
      "\n",
      "    accuracy                           0.95      6554\n",
      "   macro avg       0.83      0.52      0.52      6554\n",
      "weighted avg       0.94      0.95      0.93      6554\n",
      "\n",
      "Feature: search_and_rescue \n",
      "               precision    recall  f1-score   support\n",
      "\n",
      "           0       0.97      1.00      0.99      6378\n",
      "           1       0.57      0.02      0.04       176\n",
      "\n",
      "    accuracy                           0.97      6554\n",
      "   macro avg       0.77      0.51      0.52      6554\n",
      "weighted avg       0.96      0.97      0.96      6554\n",
      "\n",
      "Feature: security \n",
      "               precision    recall  f1-score   support\n",
      "\n",
      "           0       0.98      1.00      0.99      6444\n",
      "           1       0.00      0.00      0.00       110\n",
      "\n",
      "    accuracy                           0.98      6554\n",
      "   macro avg       0.49      0.50      0.50      6554\n",
      "weighted avg       0.97      0.98      0.97      6554\n",
      "\n",
      "Feature: military \n",
      "               precision    recall  f1-score   support\n",
      "\n",
      "           0       0.97      1.00      0.98      6349\n",
      "           1       0.50      0.04      0.07       205\n",
      "\n",
      "    accuracy                           0.97      6554\n",
      "   macro avg       0.73      0.52      0.53      6554\n",
      "weighted avg       0.96      0.97      0.96      6554\n",
      "\n",
      "Feature: child_alone \n",
      "               precision    recall  f1-score   support\n",
      "\n",
      "           0       1.00      1.00      1.00      6554\n",
      "\n",
      "    accuracy                           1.00      6554\n",
      "   macro avg       1.00      1.00      1.00      6554\n",
      "weighted avg       1.00      1.00      1.00      6554\n",
      "\n",
      "Feature: water \n",
      "               precision    recall  f1-score   support\n",
      "\n",
      "           0       0.94      1.00      0.97      6151\n",
      "           1       0.69      0.10      0.18       403\n",
      "\n",
      "    accuracy                           0.94      6554\n",
      "   macro avg       0.82      0.55      0.58      6554\n",
      "weighted avg       0.93      0.94      0.92      6554\n",
      "\n",
      "Feature: food \n",
      "               precision    recall  f1-score   support\n",
      "\n",
      "           0       0.90      0.99      0.95      5810\n",
      "           1       0.79      0.18      0.30       744\n",
      "\n",
      "    accuracy                           0.90      6554\n",
      "   macro avg       0.85      0.59      0.62      6554\n",
      "weighted avg       0.89      0.90      0.87      6554\n",
      "\n",
      "Feature: shelter \n",
      "               precision    recall  f1-score   support\n",
      "\n",
      "           0       0.92      1.00      0.96      5981\n",
      "           1       0.80      0.12      0.20       573\n",
      "\n",
      "    accuracy                           0.92      6554\n",
      "   macro avg       0.86      0.56      0.58      6554\n",
      "weighted avg       0.91      0.92      0.89      6554\n",
      "\n",
      "Feature: clothing \n",
      "               precision    recall  f1-score   support\n",
      "\n",
      "           0       0.99      1.00      0.99      6455\n",
      "           1       0.80      0.08      0.15        99\n",
      "\n",
      "    accuracy                           0.99      6554\n",
      "   macro avg       0.89      0.54      0.57      6554\n",
      "weighted avg       0.98      0.99      0.98      6554\n",
      "\n",
      "Feature: money \n",
      "               precision    recall  f1-score   support\n",
      "\n",
      "           0       0.98      1.00      0.99      6397\n",
      "           1       0.78      0.04      0.08       157\n",
      "\n",
      "    accuracy                           0.98      6554\n",
      "   macro avg       0.88      0.52      0.54      6554\n",
      "weighted avg       0.97      0.98      0.97      6554\n",
      "\n",
      "Feature: missing_people \n",
      "               precision    recall  f1-score   support\n",
      "\n",
      "           0       0.99      1.00      0.99      6469\n",
      "           1       0.00      0.00      0.00        85\n",
      "\n",
      "    accuracy                           0.99      6554\n",
      "   macro avg       0.49      0.50      0.50      6554\n",
      "weighted avg       0.97      0.99      0.98      6554\n",
      "\n",
      "Feature: refugees \n",
      "               precision    recall  f1-score   support\n",
      "\n",
      "           0       0.97      1.00      0.98      6347\n",
      "           1       0.17      0.00      0.01       207\n",
      "\n",
      "    accuracy                           0.97      6554\n",
      "   macro avg       0.57      0.50      0.50      6554\n",
      "weighted avg       0.94      0.97      0.95      6554\n",
      "\n",
      "Feature: death \n",
      "               precision    recall  f1-score   support\n",
      "\n",
      "           0       0.96      1.00      0.98      6267\n",
      "           1       0.74      0.06      0.11       287\n",
      "\n",
      "    accuracy                           0.96      6554\n",
      "   macro avg       0.85      0.53      0.54      6554\n",
      "weighted avg       0.95      0.96      0.94      6554\n",
      "\n",
      "Feature: other_aid \n",
      "               precision    recall  f1-score   support\n",
      "\n",
      "           0       0.88      0.99      0.93      5729\n",
      "           1       0.44      0.03      0.05       825\n",
      "\n",
      "    accuracy                           0.87      6554\n",
      "   macro avg       0.66      0.51      0.49      6554\n",
      "weighted avg       0.82      0.87      0.82      6554\n",
      "\n",
      "Feature: infrastructure_related \n",
      "               precision    recall  f1-score   support\n",
      "\n",
      "           0       0.93      1.00      0.96      6101\n",
      "           1       0.30      0.01      0.01       453\n",
      "\n",
      "    accuracy                           0.93      6554\n",
      "   macro avg       0.62      0.50      0.49      6554\n",
      "weighted avg       0.89      0.93      0.90      6554\n",
      "\n",
      "Feature: transport \n",
      "               precision    recall  f1-score   support\n",
      "\n",
      "           0       0.96      1.00      0.98      6264\n",
      "           1       0.42      0.03      0.05       290\n",
      "\n",
      "    accuracy                           0.96      6554\n",
      "   macro avg       0.69      0.51      0.51      6554\n",
      "weighted avg       0.93      0.96      0.94      6554\n",
      "\n",
      "Feature: buildings \n",
      "               precision    recall  f1-score   support\n",
      "\n",
      "           0       0.95      1.00      0.97      6226\n",
      "           1       0.67      0.02      0.05       328\n",
      "\n",
      "    accuracy                           0.95      6554\n",
      "   macro avg       0.81      0.51      0.51      6554\n",
      "weighted avg       0.94      0.95      0.93      6554\n",
      "\n",
      "Feature: electricity \n",
      "               precision    recall  f1-score   support\n",
      "\n",
      "           0       0.98      1.00      0.99      6422\n",
      "           1       0.85      0.08      0.15       132\n",
      "\n",
      "    accuracy                           0.98      6554\n",
      "   macro avg       0.91      0.54      0.57      6554\n",
      "weighted avg       0.98      0.98      0.97      6554\n",
      "\n",
      "Feature: tools \n",
      "               precision    recall  f1-score   support\n",
      "\n",
      "           0       0.99      1.00      1.00      6513\n",
      "           1       0.00      0.00      0.00        41\n",
      "\n",
      "    accuracy                           0.99      6554\n",
      "   macro avg       0.50      0.50      0.50      6554\n",
      "weighted avg       0.99      0.99      0.99      6554\n",
      "\n",
      "Feature: hospitals \n",
      "               precision    recall  f1-score   support\n",
      "\n",
      "           0       0.99      1.00      0.99      6479\n",
      "           1       0.00      0.00      0.00        75\n",
      "\n",
      "    accuracy                           0.99      6554\n",
      "   macro avg       0.49      0.50      0.50      6554\n",
      "weighted avg       0.98      0.99      0.98      6554\n",
      "\n"
     ]
    },
    {
     "name": "stderr",
     "output_type": "stream",
     "text": [
      "C:\\Users\\juanx\\Anaconda3\\lib\\site-packages\\sklearn\\metrics\\_classification.py:1245: UndefinedMetricWarning: Precision and F-score are ill-defined and being set to 0.0 in labels with no predicted samples. Use `zero_division` parameter to control this behavior.\n",
      "  _warn_prf(average, modifier, msg_start, len(result))\n",
      "C:\\Users\\juanx\\Anaconda3\\lib\\site-packages\\sklearn\\metrics\\_classification.py:1245: UndefinedMetricWarning: Precision and F-score are ill-defined and being set to 0.0 in labels with no predicted samples. Use `zero_division` parameter to control this behavior.\n",
      "  _warn_prf(average, modifier, msg_start, len(result))\n",
      "C:\\Users\\juanx\\Anaconda3\\lib\\site-packages\\sklearn\\metrics\\_classification.py:1245: UndefinedMetricWarning: Precision and F-score are ill-defined and being set to 0.0 in labels with no predicted samples. Use `zero_division` parameter to control this behavior.\n",
      "  _warn_prf(average, modifier, msg_start, len(result))\n",
      "C:\\Users\\juanx\\Anaconda3\\lib\\site-packages\\sklearn\\metrics\\_classification.py:1245: UndefinedMetricWarning: Precision and F-score are ill-defined and being set to 0.0 in labels with no predicted samples. Use `zero_division` parameter to control this behavior.\n",
      "  _warn_prf(average, modifier, msg_start, len(result))\n",
      "C:\\Users\\juanx\\Anaconda3\\lib\\site-packages\\sklearn\\metrics\\_classification.py:1245: UndefinedMetricWarning: Precision and F-score are ill-defined and being set to 0.0 in labels with no predicted samples. Use `zero_division` parameter to control this behavior.\n",
      "  _warn_prf(average, modifier, msg_start, len(result))\n",
      "C:\\Users\\juanx\\Anaconda3\\lib\\site-packages\\sklearn\\metrics\\_classification.py:1245: UndefinedMetricWarning: Precision and F-score are ill-defined and being set to 0.0 in labels with no predicted samples. Use `zero_division` parameter to control this behavior.\n",
      "  _warn_prf(average, modifier, msg_start, len(result))\n",
      "C:\\Users\\juanx\\Anaconda3\\lib\\site-packages\\sklearn\\metrics\\_classification.py:1245: UndefinedMetricWarning: Precision and F-score are ill-defined and being set to 0.0 in labels with no predicted samples. Use `zero_division` parameter to control this behavior.\n",
      "  _warn_prf(average, modifier, msg_start, len(result))\n",
      "C:\\Users\\juanx\\Anaconda3\\lib\\site-packages\\sklearn\\metrics\\_classification.py:1245: UndefinedMetricWarning: Precision and F-score are ill-defined and being set to 0.0 in labels with no predicted samples. Use `zero_division` parameter to control this behavior.\n",
      "  _warn_prf(average, modifier, msg_start, len(result))\n",
      "C:\\Users\\juanx\\Anaconda3\\lib\\site-packages\\sklearn\\metrics\\_classification.py:1245: UndefinedMetricWarning: Precision and F-score are ill-defined and being set to 0.0 in labels with no predicted samples. Use `zero_division` parameter to control this behavior.\n",
      "  _warn_prf(average, modifier, msg_start, len(result))\n",
      "C:\\Users\\juanx\\Anaconda3\\lib\\site-packages\\sklearn\\metrics\\_classification.py:1245: UndefinedMetricWarning: Precision and F-score are ill-defined and being set to 0.0 in labels with no predicted samples. Use `zero_division` parameter to control this behavior.\n",
      "  _warn_prf(average, modifier, msg_start, len(result))\n",
      "C:\\Users\\juanx\\Anaconda3\\lib\\site-packages\\sklearn\\metrics\\_classification.py:1245: UndefinedMetricWarning: Precision and F-score are ill-defined and being set to 0.0 in labels with no predicted samples. Use `zero_division` parameter to control this behavior.\n",
      "  _warn_prf(average, modifier, msg_start, len(result))\n",
      "C:\\Users\\juanx\\Anaconda3\\lib\\site-packages\\sklearn\\metrics\\_classification.py:1245: UndefinedMetricWarning: Precision and F-score are ill-defined and being set to 0.0 in labels with no predicted samples. Use `zero_division` parameter to control this behavior.\n",
      "  _warn_prf(average, modifier, msg_start, len(result))\n",
      "C:\\Users\\juanx\\Anaconda3\\lib\\site-packages\\sklearn\\metrics\\_classification.py:1245: UndefinedMetricWarning: Precision and F-score are ill-defined and being set to 0.0 in labels with no predicted samples. Use `zero_division` parameter to control this behavior.\n",
      "  _warn_prf(average, modifier, msg_start, len(result))\n",
      "C:\\Users\\juanx\\Anaconda3\\lib\\site-packages\\sklearn\\metrics\\_classification.py:1245: UndefinedMetricWarning: Precision and F-score are ill-defined and being set to 0.0 in labels with no predicted samples. Use `zero_division` parameter to control this behavior.\n",
      "  _warn_prf(average, modifier, msg_start, len(result))\n",
      "C:\\Users\\juanx\\Anaconda3\\lib\\site-packages\\sklearn\\metrics\\_classification.py:1245: UndefinedMetricWarning: Precision and F-score are ill-defined and being set to 0.0 in labels with no predicted samples. Use `zero_division` parameter to control this behavior.\n",
      "  _warn_prf(average, modifier, msg_start, len(result))\n"
     ]
    },
    {
     "name": "stdout",
     "output_type": "stream",
     "text": [
      "Feature: shops \n",
      "               precision    recall  f1-score   support\n",
      "\n",
      "           0       0.99      1.00      1.00      6519\n",
      "           1       0.00      0.00      0.00        35\n",
      "\n",
      "    accuracy                           0.99      6554\n",
      "   macro avg       0.50      0.50      0.50      6554\n",
      "weighted avg       0.99      0.99      0.99      6554\n",
      "\n",
      "Feature: aid_centers \n",
      "               precision    recall  f1-score   support\n",
      "\n",
      "           0       0.99      1.00      0.99      6459\n",
      "           1       0.00      0.00      0.00        95\n",
      "\n",
      "    accuracy                           0.99      6554\n",
      "   macro avg       0.49      0.50      0.50      6554\n",
      "weighted avg       0.97      0.99      0.98      6554\n",
      "\n",
      "Feature: other_infrastructure \n",
      "               precision    recall  f1-score   support\n",
      "\n",
      "           0       0.96      1.00      0.98      6267\n",
      "           1       0.50      0.01      0.01       287\n",
      "\n",
      "    accuracy                           0.96      6554\n",
      "   macro avg       0.73      0.50      0.50      6554\n",
      "weighted avg       0.94      0.96      0.94      6554\n",
      "\n",
      "Feature: weather_related \n",
      "               precision    recall  f1-score   support\n",
      "\n",
      "           0       0.77      0.97      0.86      4705\n",
      "           1       0.80      0.28      0.41      1849\n",
      "\n",
      "    accuracy                           0.78      6554\n",
      "   macro avg       0.79      0.63      0.64      6554\n",
      "weighted avg       0.78      0.78      0.74      6554\n",
      "\n",
      "Feature: floods \n",
      "               precision    recall  f1-score   support\n",
      "\n",
      "           0       0.92      1.00      0.96      6000\n",
      "           1       0.75      0.09      0.16       554\n",
      "\n",
      "    accuracy                           0.92      6554\n",
      "   macro avg       0.84      0.54      0.56      6554\n",
      "weighted avg       0.91      0.92      0.89      6554\n",
      "\n",
      "Feature: storm \n",
      "               precision    recall  f1-score   support\n",
      "\n",
      "           0       0.92      1.00      0.95      5934\n",
      "           1       0.74      0.13      0.22       620\n",
      "\n",
      "    accuracy                           0.91      6554\n",
      "   macro avg       0.83      0.56      0.58      6554\n",
      "weighted avg       0.90      0.91      0.88      6554\n",
      "\n",
      "Feature: fire \n",
      "               precision    recall  f1-score   support\n",
      "\n",
      "           0       0.99      1.00      1.00      6485\n",
      "           1       1.00      0.06      0.11        69\n",
      "\n",
      "    accuracy                           0.99      6554\n",
      "   macro avg       1.00      0.53      0.55      6554\n",
      "weighted avg       0.99      0.99      0.99      6554\n",
      "\n",
      "Feature: earthquake \n",
      "               precision    recall  f1-score   support\n",
      "\n",
      "           0       0.93      0.99      0.96      5914\n",
      "           1       0.81      0.35      0.49       640\n",
      "\n",
      "    accuracy                           0.93      6554\n",
      "   macro avg       0.87      0.67      0.72      6554\n",
      "weighted avg       0.92      0.93      0.91      6554\n",
      "\n",
      "Feature: cold \n",
      "               precision    recall  f1-score   support\n",
      "\n",
      "           0       0.98      1.00      0.99      6408\n",
      "           1       0.50      0.03      0.06       146\n",
      "\n",
      "    accuracy                           0.98      6554\n",
      "   macro avg       0.74      0.52      0.53      6554\n",
      "weighted avg       0.97      0.98      0.97      6554\n",
      "\n",
      "Feature: other_weather \n",
      "               precision    recall  f1-score   support\n",
      "\n",
      "           0       0.95      1.00      0.97      6207\n",
      "           1       0.64      0.03      0.05       347\n",
      "\n",
      "    accuracy                           0.95      6554\n",
      "   macro avg       0.80      0.51      0.51      6554\n",
      "weighted avg       0.93      0.95      0.92      6554\n",
      "\n",
      "Feature: direct_report \n",
      "               precision    recall  f1-score   support\n",
      "\n",
      "           0       0.84      0.98      0.90      5285\n",
      "           1       0.73      0.19      0.31      1269\n",
      "\n",
      "    accuracy                           0.83      6554\n",
      "   macro avg       0.78      0.59      0.60      6554\n",
      "weighted avg       0.82      0.83      0.79      6554\n",
      "\n"
     ]
    }
   ],
   "source": [
    "display_results(y_pred, y_test)"
   ]
  },
  {
   "cell_type": "markdown",
   "metadata": {},
   "source": [
    "### 6. Improve your model\n",
    "Use grid search to find better parameters. "
   ]
  },
  {
   "cell_type": "code",
   "execution_count": null,
   "metadata": {
    "collapsed": true
   },
   "outputs": [],
   "source": [
    "parameters = \n",
    "\n",
    "cv = "
   ]
  },
  {
   "cell_type": "markdown",
   "metadata": {},
   "source": [
    "### 7. Test your model\n",
    "Show the accuracy, precision, and recall of the tuned model.  \n",
    "\n",
    "Since this project focuses on code quality, process, and  pipelines, there is no minimum performance metric needed to pass. However, make sure to fine tune your models for accuracy, precision and recall to make your project stand out - especially for your portfolio!"
   ]
  },
  {
   "cell_type": "code",
   "execution_count": null,
   "metadata": {
    "collapsed": true
   },
   "outputs": [],
   "source": []
  },
  {
   "cell_type": "markdown",
   "metadata": {},
   "source": [
    "### 8. Try improving your model further. Here are a few ideas:\n",
    "* try other machine learning algorithms\n",
    "* add other features besides the TF-IDF"
   ]
  },
  {
   "cell_type": "code",
   "execution_count": null,
   "metadata": {
    "collapsed": true
   },
   "outputs": [],
   "source": []
  },
  {
   "cell_type": "markdown",
   "metadata": {},
   "source": [
    "### 9. Export your model as a pickle file"
   ]
  },
  {
   "cell_type": "code",
   "execution_count": null,
   "metadata": {
    "collapsed": true
   },
   "outputs": [],
   "source": []
  },
  {
   "cell_type": "markdown",
   "metadata": {},
   "source": [
    "### 10. Use this notebook to complete `train.py`\n",
    "Use the template file attached in the Resources folder to write a script that runs the steps above to create a database and export a model based on a new dataset specified by the user."
   ]
  },
  {
   "cell_type": "code",
   "execution_count": null,
   "metadata": {
    "collapsed": true
   },
   "outputs": [],
   "source": []
  }
 ],
 "metadata": {
  "kernelspec": {
   "display_name": "Python 3",
   "language": "python",
   "name": "python3"
  },
  "language_info": {
   "codemirror_mode": {
    "name": "ipython",
    "version": 3
   },
   "file_extension": ".py",
   "mimetype": "text/x-python",
   "name": "python",
   "nbconvert_exporter": "python",
   "pygments_lexer": "ipython3",
   "version": "3.8.8"
  }
 },
 "nbformat": 4,
 "nbformat_minor": 2
}
